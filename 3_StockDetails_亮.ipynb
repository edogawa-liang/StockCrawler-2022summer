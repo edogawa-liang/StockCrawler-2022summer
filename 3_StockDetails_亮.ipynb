{
 "cells": [
  {
   "cell_type": "markdown",
   "id": "9a21f3de",
   "metadata": {},
   "source": [
    "# 融資融券明細"
   ]
  },
  {
   "cell_type": "code",
   "execution_count": 1,
   "id": "41abaf80",
   "metadata": {},
   "outputs": [],
   "source": [
    "import time, os, pickle, glob\n",
    "from bs4 import BeautifulSoup as bs\n",
    "from selenium import webdriver\n",
    "from selenium.webdriver.support.select import Select\n",
    "import chromedriver_autoinstaller\n",
    "from selenium.webdriver.common.by import By\n",
    "\n",
    "import pandas as pd\n",
    "import numpy as np\n",
    "\n",
    "import datetime\n",
    "from datetime import timedelta\n",
    "\n",
    "#! pip install chinesecalendar\n",
    "import chinese_calendar\n",
    "from chinese_calendar import is_workday\n",
    "\n",
    "import warnings\n",
    "warnings.filterwarnings('ignore')"
   ]
  },
  {
   "cell_type": "code",
   "execution_count": 8,
   "id": "bb6f6980",
   "metadata": {},
   "outputs": [
    {
     "name": "stdout",
     "output_type": "stream",
     "text": [
      "Wall time: 1.87 s\n"
     ]
    }
   ],
   "source": [
    "%%time\n",
    "chromedriver_autoinstaller.install()\n",
    "chrome_options = webdriver.ChromeOptions()\n",
    "browser = webdriver.Chrome(options=chrome_options)"
   ]
  },
  {
   "cell_type": "markdown",
   "id": "e4a6eb40",
   "metadata": {},
   "source": [
    "## 抓表格 function"
   ]
  },
  {
   "cell_type": "code",
   "execution_count": 36,
   "id": "92ef66b6",
   "metadata": {},
   "outputs": [],
   "source": [
    "now = datetime.datetime.now().date()\n",
    "def table(ticker, \n",
    "          start_year=now.year, start_month=now.month, start_day=now.day, \n",
    "          end_year=now.year, end_month=now.month, end_day=now.day):\n",
    "    '''\n",
    "    ticker: 股票號碼\n",
    "    --------------\n",
    "    (default 抓今天)\n",
    "    start_year: 開始年份\n",
    "    start_month: 開始月份\n",
    "    start_day: 開始日期\n",
    "    end_year: 結束年份\n",
    "    end_month: 結束月份\n",
    "    end_day: 結束日期\n",
    "    '''\n",
    "    \n",
    "    url = f\"https://stockchannelnew.sinotrade.com.tw/z/zc/zcn/zcn.djhtm?a={ticker}&c={start_year}-{start_month}-{start_day}&d={end_year}-{end_month}-{end_day}\"\n",
    "    browser.get(url)\n",
    "    html = browser.page_source\n",
    "    soup = bs(html, \"lxml\")\n",
    "\n",
    "    try:\n",
    "        # 值\n",
    "        values = soup.find_all('td', \"t3n1\")\n",
    "        value_list = [value.getText() for value in values]\n",
    "        value_df = pd.DataFrame(np.array(value_list[:-2]).reshape(-1, 14))\n",
    "\n",
    "        # 欄位名稱\n",
    "        titles = soup.find_all('td', \"t2\")\n",
    "        title_list = [title.getText() for title in titles][-14:] \n",
    "        title_all = ['融資' + title_list[i] if i+1 <= 7 else '融券' + title_list[i] for i in range(len(title_list)-1)] + ['資券' + title_list[-1]]\n",
    "\n",
    "        # 日期\n",
    "        dates = soup.find_all('td', \"t3n0\")[1:]  # 因為第一個是空格\n",
    "        date_list = [date.getText().split('/') for date in dates]\n",
    "        for i in range(len(date_list)):\n",
    "            date_list[i][0] = str(int(date_list[i][0])+1911)\n",
    "            date_list[i] = '-'.join(date_list[i])\n",
    "\n",
    "        value_df.columns = title_all\n",
    "        value_df.insert(0, \"日期\", date_list)  \n",
    "        \n",
    "        return value_df\n",
    "    \n",
    "    \n",
    "    except Exception as e:\n",
    "        #print('【系統訊息】{}'.format(e))\n",
    "        return None"
   ]
  },
  {
   "cell_type": "markdown",
   "id": "38aabf69",
   "metadata": {},
   "source": [
    "<hr>"
   ]
  },
  {
   "cell_type": "markdown",
   "id": "d7240629",
   "metadata": {},
   "source": [
    "## <font color = blue>第一次爬:"
   ]
  },
  {
   "cell_type": "markdown",
   "id": "804876e2",
   "metadata": {},
   "source": [
    "### 要爬的股票"
   ]
  },
  {
   "cell_type": "code",
   "execution_count": 28,
   "id": "00c7a97d",
   "metadata": {},
   "outputs": [],
   "source": [
    "path_from = os.getcwd() \n",
    "tickers = pd.read_csv(path_from + r'\\台股全部4.csv', header=None)[0].tolist()"
   ]
  },
  {
   "cell_type": "markdown",
   "id": "2fa51758",
   "metadata": {},
   "source": [
    "### 設定開始爬的股票號碼"
   ]
  },
  {
   "cell_type": "code",
   "execution_count": 29,
   "id": "a33a1a92",
   "metadata": {},
   "outputs": [
    {
     "name": "stdout",
     "output_type": "stream",
     "text": [
      "從第 5 個開始\n"
     ]
    }
   ],
   "source": [
    "start = 4142  # 自己輸入\n",
    "\n",
    "start_index = int([i for (i, j) in enumerate(tickers) if j == start][0])\n",
    "print(f'從第 {start_index+1} 個開始')"
   ]
  },
  {
   "cell_type": "markdown",
   "id": "072a1b09",
   "metadata": {},
   "source": [
    "### 事先設定"
   ]
  },
  {
   "cell_type": "code",
   "execution_count": 41,
   "id": "6872dcb8",
   "metadata": {},
   "outputs": [],
   "source": [
    "# 設定資料夾\n",
    "path_go = f'{os.getcwd()}\\\\融資融券明細'   \n",
    "if not os.path.exists(path_go) : \n",
    "    os.makedirs(path_go)\n",
    "\n",
    "# 打開之前儲存查無資料的股票號碼繼續沿用\n",
    "if not os.path.exists(r'3_problem_list.pkl') :\n",
    "    problem = []\n",
    "else:\n",
    "    with open(r'3_problem_list.pkl', mode='rb') as inpf :  # 打開之前儲存的錯誤 dict 繼續沿用\n",
    "        try:\n",
    "            problem = pickle.load(inpf)\n",
    "        except EOFError:\n",
    "            problem = []"
   ]
  },
  {
   "cell_type": "markdown",
   "id": "2cba963e",
   "metadata": {},
   "source": [
    "### 開始抓股票"
   ]
  },
  {
   "cell_type": "code",
   "execution_count": 42,
   "id": "caa8d00e",
   "metadata": {},
   "outputs": [
    {
     "name": "stdout",
     "output_type": "stream",
     "text": [
      "成功匯出 4142-20220104_20220701.csv\n",
      "成功匯出 4147-20220104_20220701.csv\n",
      "成功匯出 4148-20220104_20220701.csv\n",
      "查無(4150)融資融券資料\n",
      "查無(4151)融資融券資料\n",
      "成功匯出 4153-20220104_20220701.csv\n",
      "查無(4154)融資融券資料\n",
      "成功匯出 4155-20220104_20220701.csv\n",
      "查無(4156)融資融券資料\n",
      "成功匯出 4157-20220104_20220701.csv\n",
      "查無(4160)融資融券資料\n",
      "成功匯出 4161-20220104_20220701.csv\n",
      "成功匯出 4162-20220104_20220701.csv\n",
      "成功匯出 4163-20220104_20220701.csv\n",
      "成功匯出 4164-20220104_20220701.csv\n",
      "查無(4166)融資融券資料\n",
      "成功匯出 4167-20220104_20220701.csv\n",
      "成功匯出 4168-20220104_20220701.csv\n",
      "查無(4169)融資融券資料\n",
      "查無(4170)融資融券資料\n"
     ]
    },
    {
     "ename": "KeyboardInterrupt",
     "evalue": "",
     "output_type": "error",
     "traceback": [
      "\u001b[1;31m---------------------------------------------------------------------------\u001b[0m",
      "\u001b[1;31mKeyboardInterrupt\u001b[0m                         Traceback (most recent call last)",
      "\u001b[1;32m~\\AppData\\Local\\Temp/ipykernel_19700/129802317.py\u001b[0m in \u001b[0;36m<module>\u001b[1;34m\u001b[0m\n\u001b[0;32m      1\u001b[0m \u001b[1;32mfor\u001b[0m \u001b[0mticker\u001b[0m \u001b[1;32min\u001b[0m \u001b[0mtickers\u001b[0m\u001b[1;33m[\u001b[0m\u001b[0mstart_index\u001b[0m\u001b[1;33m:\u001b[0m\u001b[1;33m]\u001b[0m\u001b[1;33m:\u001b[0m\u001b[1;33m\u001b[0m\u001b[1;33m\u001b[0m\u001b[0m\n\u001b[1;32m----> 2\u001b[1;33m     \u001b[0mdf\u001b[0m \u001b[1;33m=\u001b[0m \u001b[0mtable\u001b[0m\u001b[1;33m(\u001b[0m\u001b[0mticker\u001b[0m\u001b[1;33m,\u001b[0m \u001b[0mstart_year\u001b[0m\u001b[1;33m=\u001b[0m\u001b[1;36m2022\u001b[0m\u001b[1;33m,\u001b[0m \u001b[0mstart_month\u001b[0m\u001b[1;33m=\u001b[0m\u001b[1;36m1\u001b[0m\u001b[1;33m,\u001b[0m \u001b[0mstart_day\u001b[0m\u001b[1;33m=\u001b[0m\u001b[1;36m1\u001b[0m\u001b[1;33m,\u001b[0m \u001b[0mend_year\u001b[0m\u001b[1;33m=\u001b[0m\u001b[1;36m2022\u001b[0m\u001b[1;33m,\u001b[0m \u001b[0mend_month\u001b[0m\u001b[1;33m=\u001b[0m\u001b[1;36m7\u001b[0m\u001b[1;33m,\u001b[0m \u001b[0mend_day\u001b[0m\u001b[1;33m=\u001b[0m\u001b[1;36m1\u001b[0m\u001b[1;33m)\u001b[0m\u001b[1;33m\u001b[0m\u001b[1;33m\u001b[0m\u001b[0m\n\u001b[0m\u001b[0;32m      3\u001b[0m     \u001b[1;32mif\u001b[0m \u001b[0misinstance\u001b[0m\u001b[1;33m(\u001b[0m\u001b[0mdf\u001b[0m\u001b[1;33m,\u001b[0m \u001b[0mtype\u001b[0m\u001b[1;33m(\u001b[0m\u001b[1;32mNone\u001b[0m\u001b[1;33m)\u001b[0m\u001b[1;33m)\u001b[0m\u001b[1;33m:\u001b[0m\u001b[1;33m\u001b[0m\u001b[1;33m\u001b[0m\u001b[0m\n\u001b[0;32m      4\u001b[0m         \u001b[0mproblem\u001b[0m\u001b[1;33m.\u001b[0m\u001b[0mappend\u001b[0m\u001b[1;33m(\u001b[0m\u001b[0mticker\u001b[0m\u001b[1;33m)\u001b[0m\u001b[1;33m\u001b[0m\u001b[1;33m\u001b[0m\u001b[0m\n\u001b[0;32m      5\u001b[0m         \u001b[0mprint\u001b[0m\u001b[1;33m(\u001b[0m\u001b[1;34mf'查無({ticker})融資融券資料'\u001b[0m\u001b[1;33m)\u001b[0m\u001b[1;33m\u001b[0m\u001b[1;33m\u001b[0m\u001b[0m\n",
      "\u001b[1;32m~\\AppData\\Local\\Temp/ipykernel_19700/3858980743.py\u001b[0m in \u001b[0;36mtable\u001b[1;34m(ticker, start_year, start_month, start_day, end_year, end_month, end_day)\u001b[0m\n\u001b[0;32m     26\u001b[0m \u001b[1;33m\u001b[0m\u001b[0m\n\u001b[0;32m     27\u001b[0m         \u001b[1;31m# 欄位名稱\u001b[0m\u001b[1;33m\u001b[0m\u001b[1;33m\u001b[0m\u001b[0m\n\u001b[1;32m---> 28\u001b[1;33m         \u001b[0mtitles\u001b[0m \u001b[1;33m=\u001b[0m \u001b[0msoup\u001b[0m\u001b[1;33m.\u001b[0m\u001b[0mfind_all\u001b[0m\u001b[1;33m(\u001b[0m\u001b[1;34m'td'\u001b[0m\u001b[1;33m,\u001b[0m \u001b[1;34m\"t2\"\u001b[0m\u001b[1;33m)\u001b[0m\u001b[1;33m\u001b[0m\u001b[1;33m\u001b[0m\u001b[0m\n\u001b[0m\u001b[0;32m     29\u001b[0m         \u001b[0mtitle_list\u001b[0m \u001b[1;33m=\u001b[0m \u001b[1;33m[\u001b[0m\u001b[0mtitle\u001b[0m\u001b[1;33m.\u001b[0m\u001b[0mgetText\u001b[0m\u001b[1;33m(\u001b[0m\u001b[1;33m)\u001b[0m \u001b[1;32mfor\u001b[0m \u001b[0mtitle\u001b[0m \u001b[1;32min\u001b[0m \u001b[0mtitles\u001b[0m\u001b[1;33m]\u001b[0m\u001b[1;33m[\u001b[0m\u001b[1;33m-\u001b[0m\u001b[1;36m14\u001b[0m\u001b[1;33m:\u001b[0m\u001b[1;33m]\u001b[0m\u001b[1;33m\u001b[0m\u001b[1;33m\u001b[0m\u001b[0m\n\u001b[0;32m     30\u001b[0m         \u001b[0mtitle_all\u001b[0m \u001b[1;33m=\u001b[0m \u001b[1;33m[\u001b[0m\u001b[1;34m'融資'\u001b[0m \u001b[1;33m+\u001b[0m \u001b[0mtitle_list\u001b[0m\u001b[1;33m[\u001b[0m\u001b[0mi\u001b[0m\u001b[1;33m]\u001b[0m \u001b[1;32mif\u001b[0m \u001b[0mi\u001b[0m\u001b[1;33m+\u001b[0m\u001b[1;36m1\u001b[0m \u001b[1;33m<=\u001b[0m \u001b[1;36m7\u001b[0m \u001b[1;32melse\u001b[0m \u001b[1;34m'融券'\u001b[0m \u001b[1;33m+\u001b[0m \u001b[0mtitle_list\u001b[0m\u001b[1;33m[\u001b[0m\u001b[0mi\u001b[0m\u001b[1;33m]\u001b[0m \u001b[1;32mfor\u001b[0m \u001b[0mi\u001b[0m \u001b[1;32min\u001b[0m \u001b[0mrange\u001b[0m\u001b[1;33m(\u001b[0m\u001b[0mlen\u001b[0m\u001b[1;33m(\u001b[0m\u001b[0mtitle_list\u001b[0m\u001b[1;33m)\u001b[0m\u001b[1;33m-\u001b[0m\u001b[1;36m1\u001b[0m\u001b[1;33m)\u001b[0m\u001b[1;33m]\u001b[0m \u001b[1;33m+\u001b[0m \u001b[1;33m[\u001b[0m\u001b[1;34m'資券'\u001b[0m \u001b[1;33m+\u001b[0m \u001b[0mtitle_list\u001b[0m\u001b[1;33m[\u001b[0m\u001b[1;33m-\u001b[0m\u001b[1;36m1\u001b[0m\u001b[1;33m]\u001b[0m\u001b[1;33m]\u001b[0m\u001b[1;33m\u001b[0m\u001b[1;33m\u001b[0m\u001b[0m\n",
      "\u001b[1;32mC:\\Anaconda3\\envs\\NTPU_project\\lib\\site-packages\\bs4\\element.py\u001b[0m in \u001b[0;36mfind_all\u001b[1;34m(self, name, attrs, recursive, text, limit, **kwargs)\u001b[0m\n\u001b[0;32m   1866\u001b[0m         \u001b[1;32mif\u001b[0m \u001b[1;32mnot\u001b[0m \u001b[0mrecursive\u001b[0m\u001b[1;33m:\u001b[0m\u001b[1;33m\u001b[0m\u001b[1;33m\u001b[0m\u001b[0m\n\u001b[0;32m   1867\u001b[0m             \u001b[0mgenerator\u001b[0m \u001b[1;33m=\u001b[0m \u001b[0mself\u001b[0m\u001b[1;33m.\u001b[0m\u001b[0mchildren\u001b[0m\u001b[1;33m\u001b[0m\u001b[1;33m\u001b[0m\u001b[0m\n\u001b[1;32m-> 1868\u001b[1;33m         \u001b[1;32mreturn\u001b[0m \u001b[0mself\u001b[0m\u001b[1;33m.\u001b[0m\u001b[0m_find_all\u001b[0m\u001b[1;33m(\u001b[0m\u001b[0mname\u001b[0m\u001b[1;33m,\u001b[0m \u001b[0mattrs\u001b[0m\u001b[1;33m,\u001b[0m \u001b[0mtext\u001b[0m\u001b[1;33m,\u001b[0m \u001b[0mlimit\u001b[0m\u001b[1;33m,\u001b[0m \u001b[0mgenerator\u001b[0m\u001b[1;33m,\u001b[0m \u001b[1;33m**\u001b[0m\u001b[0mkwargs\u001b[0m\u001b[1;33m)\u001b[0m\u001b[1;33m\u001b[0m\u001b[1;33m\u001b[0m\u001b[0m\n\u001b[0m\u001b[0;32m   1869\u001b[0m     \u001b[0mfindAll\u001b[0m \u001b[1;33m=\u001b[0m \u001b[0mfind_all\u001b[0m       \u001b[1;31m# BS3\u001b[0m\u001b[1;33m\u001b[0m\u001b[1;33m\u001b[0m\u001b[0m\n\u001b[0;32m   1870\u001b[0m     \u001b[0mfindChildren\u001b[0m \u001b[1;33m=\u001b[0m \u001b[0mfind_all\u001b[0m  \u001b[1;31m# BS2\u001b[0m\u001b[1;33m\u001b[0m\u001b[1;33m\u001b[0m\u001b[0m\n",
      "\u001b[1;32mC:\\Anaconda3\\envs\\NTPU_project\\lib\\site-packages\\bs4\\element.py\u001b[0m in \u001b[0;36m_find_all\u001b[1;34m(self, name, attrs, text, limit, generator, **kwargs)\u001b[0m\n\u001b[0;32m    823\u001b[0m                 \u001b[1;32mbreak\u001b[0m\u001b[1;33m\u001b[0m\u001b[1;33m\u001b[0m\u001b[0m\n\u001b[0;32m    824\u001b[0m             \u001b[1;32mif\u001b[0m \u001b[0mi\u001b[0m\u001b[1;33m:\u001b[0m\u001b[1;33m\u001b[0m\u001b[1;33m\u001b[0m\u001b[0m\n\u001b[1;32m--> 825\u001b[1;33m                 \u001b[0mfound\u001b[0m \u001b[1;33m=\u001b[0m \u001b[0mstrainer\u001b[0m\u001b[1;33m.\u001b[0m\u001b[0msearch\u001b[0m\u001b[1;33m(\u001b[0m\u001b[0mi\u001b[0m\u001b[1;33m)\u001b[0m\u001b[1;33m\u001b[0m\u001b[1;33m\u001b[0m\u001b[0m\n\u001b[0m\u001b[0;32m    826\u001b[0m                 \u001b[1;32mif\u001b[0m \u001b[0mfound\u001b[0m\u001b[1;33m:\u001b[0m\u001b[1;33m\u001b[0m\u001b[1;33m\u001b[0m\u001b[0m\n\u001b[0;32m    827\u001b[0m                     \u001b[0mresults\u001b[0m\u001b[1;33m.\u001b[0m\u001b[0mappend\u001b[0m\u001b[1;33m(\u001b[0m\u001b[0mfound\u001b[0m\u001b[1;33m)\u001b[0m\u001b[1;33m\u001b[0m\u001b[1;33m\u001b[0m\u001b[0m\n",
      "\u001b[1;32mC:\\Anaconda3\\envs\\NTPU_project\\lib\\site-packages\\bs4\\element.py\u001b[0m in \u001b[0;36msearch\u001b[1;34m(self, markup)\u001b[0m\n\u001b[0;32m   2133\u001b[0m         \u001b[1;31m# If given a list of items, scan it for a text element that\u001b[0m\u001b[1;33m\u001b[0m\u001b[1;33m\u001b[0m\u001b[0m\n\u001b[0;32m   2134\u001b[0m         \u001b[1;31m# matches.\u001b[0m\u001b[1;33m\u001b[0m\u001b[1;33m\u001b[0m\u001b[0m\n\u001b[1;32m-> 2135\u001b[1;33m         \u001b[1;32mif\u001b[0m \u001b[0mhasattr\u001b[0m\u001b[1;33m(\u001b[0m\u001b[0mmarkup\u001b[0m\u001b[1;33m,\u001b[0m \u001b[1;34m'__iter__'\u001b[0m\u001b[1;33m)\u001b[0m \u001b[1;32mand\u001b[0m \u001b[1;32mnot\u001b[0m \u001b[0misinstance\u001b[0m\u001b[1;33m(\u001b[0m\u001b[0mmarkup\u001b[0m\u001b[1;33m,\u001b[0m \u001b[1;33m(\u001b[0m\u001b[0mTag\u001b[0m\u001b[1;33m,\u001b[0m \u001b[0mstr\u001b[0m\u001b[1;33m)\u001b[0m\u001b[1;33m)\u001b[0m\u001b[1;33m:\u001b[0m\u001b[1;33m\u001b[0m\u001b[1;33m\u001b[0m\u001b[0m\n\u001b[0m\u001b[0;32m   2136\u001b[0m             \u001b[1;32mfor\u001b[0m \u001b[0melement\u001b[0m \u001b[1;32min\u001b[0m \u001b[0mmarkup\u001b[0m\u001b[1;33m:\u001b[0m\u001b[1;33m\u001b[0m\u001b[1;33m\u001b[0m\u001b[0m\n\u001b[0;32m   2137\u001b[0m                 \u001b[1;32mif\u001b[0m \u001b[0misinstance\u001b[0m\u001b[1;33m(\u001b[0m\u001b[0melement\u001b[0m\u001b[1;33m,\u001b[0m \u001b[0mNavigableString\u001b[0m\u001b[1;33m)\u001b[0m\u001b[0;31m \u001b[0m\u001b[0;31m\\\u001b[0m\u001b[1;33m\u001b[0m\u001b[1;33m\u001b[0m\u001b[0m\n",
      "\u001b[1;31mKeyboardInterrupt\u001b[0m: "
     ]
    }
   ],
   "source": [
    "for ticker in tickers[start_index:]:\n",
    "    df = table(ticker, start_year=2022, start_month=1, start_day=1, end_year=2022, end_month=7, end_day=1) # 自訂!\n",
    "    if isinstance(df, type(None)):\n",
    "        problem.append(ticker)\n",
    "        print(f'查無({ticker})融資融券資料')\n",
    "        continue\n",
    "    else:\n",
    "        filename = str(ticker) + '-' + ''.join(df['日期'][len(df)-1].split('-')) + '_' + ''.join(df['日期'][0].split('-')) +'.csv'\n",
    "        df.to_csv(f'{path_go}\\\\{filename}', encoding='cp950', index = False)\n",
    "        print(f'成功匯出 {filename}')\n",
    "    \n",
    "    time.sleep(0.5)"
   ]
  },
  {
   "cell_type": "code",
   "execution_count": 63,
   "id": "8186c9ec",
   "metadata": {},
   "outputs": [
    {
     "name": "stdout",
     "output_type": "stream",
     "text": [
      "查無資料的股票號碼: [4150, 4151, 4154, 4156, 4160, 4166, 4169, 4170]\n",
      "\n",
      "已將查無資料的股票號碼匯出為 3_problem_list.pkl\n"
     ]
    }
   ],
   "source": [
    "print(f'查無資料的股票號碼: {problem}')\n",
    "with open(r'3_problem_list.pkl', mode='wb') as outf :\n",
    "            pickle.dump(problem, outf)\n",
    "print('')        \n",
    "print(f'已將查無資料的股票號碼匯出為 3_problem_list.pkl')"
   ]
  },
  {
   "cell_type": "markdown",
   "id": "6889fded",
   "metadata": {},
   "source": [
    "<hr>"
   ]
  },
  {
   "cell_type": "markdown",
   "id": "100563f2",
   "metadata": {},
   "source": [
    "## <font color = blue>從現有的檔案更新 (自動更新到今天):"
   ]
  },
  {
   "cell_type": "code",
   "execution_count": 56,
   "id": "c3d462d8",
   "metadata": {},
   "outputs": [],
   "source": [
    "# 所有檔案\n",
    "fnames = glob.glob(path_go + r'\\*.csv', recursive=False)\n",
    "\n",
    "# 目前共抓了哪些股票\n",
    "tickers = [fname.split('\\\\')[-1].split('-')[0] for fname in fnames]\n",
    "\n",
    "# 找出之前抓到哪一天\n",
    "existfile_end = [fname.split('\\\\')[-1].split('_')[-1].split('.')[0] for fname in fnames]\n",
    "\n",
    "# 新檔案該從哪一天開始抓\n",
    "newfile_start = [datetime.datetime.strptime(i, \"%Y%m%d\") + datetime.timedelta(days=1) for i in existfile_end]"
   ]
  },
  {
   "cell_type": "code",
   "execution_count": 58,
   "id": "5a8a331f",
   "metadata": {},
   "outputs": [
    {
     "name": "stdout",
     "output_type": "stream",
     "text": [
      "4153 更新完成\n",
      "4155 更新完成\n",
      "4157 更新完成\n",
      "4161 更新完成\n",
      "4162 更新完成\n",
      "4163 更新完成\n",
      "4164 更新完成\n",
      "4167 更新完成\n",
      "4168 更新完成\n",
      "4171 更新完成\n",
      "8027 更新完成\n"
     ]
    }
   ],
   "source": [
    "for i in list(zip(range(len(tickers)), tickers, newfile_start)):\n",
    "    \n",
    "    # i[0]: 第幾個位置、 i[1]:股票號碼  i[2]: 開始日期\n",
    "    \n",
    "    # 讀入舊的檔案\n",
    "    exist_df = pd.read_csv(fnames[i[0]], sep=',', encoding='cp950', engine='python')\n",
    "    # 新增的檔案\n",
    "    add_df = table(i[1], start_year=i[2].year, start_month=i[2].month, start_day=i[2].day)\n",
    "    # 合併檔案\n",
    "    new_df = pd.concat([add_df, exist_df], axis=0, verify_integrity=True, ignore_index=True)\n",
    "    # 新的檔案名\n",
    "    filename = str(i[1]) + '-' + ''.join(new_df['日期'][len(new_df)-1].split('-')) + '_' + ''.join(new_df['日期'][0].split('-')) +'.csv'\n",
    "    # 匯出檔案\n",
    "    new_df.to_csv(f'{path_go}\\\\{filename}', encoding='cp950', index = False)\n",
    "    # 移除舊的檔案\n",
    "    os.remove(fnames[i[0]])\n",
    "    \n",
    "    print(f'{i[1]} 更新完成')\n",
    "    time.sleep(0.5)"
   ]
  }
 ],
 "metadata": {
  "kernelspec": {
   "display_name": "Python 3 (ipykernel)",
   "language": "python",
   "name": "python3"
  },
  "language_info": {
   "codemirror_mode": {
    "name": "ipython",
    "version": 3
   },
   "file_extension": ".py",
   "mimetype": "text/x-python",
   "name": "python",
   "nbconvert_exporter": "python",
   "pygments_lexer": "ipython3",
   "version": "3.9.7"
  }
 },
 "nbformat": 4,
 "nbformat_minor": 5
}
