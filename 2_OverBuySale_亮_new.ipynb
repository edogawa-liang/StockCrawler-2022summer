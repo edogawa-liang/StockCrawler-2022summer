{
 "cells": [
  {
   "cell_type": "markdown",
   "id": "3bf5a62e",
   "metadata": {},
   "source": [
    "# 抓買超賣超\n",
    "沒有用滾輪按按鈕選日期"
   ]
  },
  {
   "cell_type": "code",
   "execution_count": 1,
   "id": "bbf398dd",
   "metadata": {},
   "outputs": [],
   "source": [
    "import time, os, pickle\n",
    "from bs4 import BeautifulSoup as bs\n",
    "from selenium import webdriver\n",
    "from selenium.webdriver.support.select import Select\n",
    "import chromedriver_autoinstaller\n",
    "from selenium.webdriver.common.by import By\n",
    "\n",
    "import pandas as pd\n",
    "import numpy as np\n",
    "\n",
    "import datetime\n",
    "from datetime import timedelta\n",
    "\n",
    "#! pip install chinesecalendar\n",
    "import chinese_calendar\n",
    "from chinese_calendar import is_workday\n",
    "\n",
    "import warnings\n",
    "warnings.filterwarnings('ignore')"
   ]
  },
  {
   "cell_type": "code",
   "execution_count": 2,
   "id": "7593c878",
   "metadata": {},
   "outputs": [
    {
     "name": "stdout",
     "output_type": "stream",
     "text": [
      "Wall time: 4.63 s\n"
     ]
    }
   ],
   "source": [
    "%%time\n",
    "chromedriver_autoinstaller.install()\n",
    "chrome_options = webdriver.ChromeOptions()\n",
    "browser = webdriver.Chrome(options=chrome_options)"
   ]
  },
  {
   "cell_type": "markdown",
   "id": "9359b183",
   "metadata": {},
   "source": [
    "## 1. 抓買超賣超表格 fun"
   ]
  },
  {
   "cell_type": "code",
   "execution_count": 19,
   "id": "b4b6af74",
   "metadata": {},
   "outputs": [],
   "source": [
    "def table(ticker):\n",
    "    '''\n",
    "    回傳: \n",
    "    1. 買超表格\n",
    "    2. 賣超表格\n",
    "    3. 重要東東的值\n",
    "    4. 重要東東的名字\n",
    "    '''\n",
    "    html = browser.page_source\n",
    "    soup = bs(html, \"lxml\")\n",
    "    \n",
    "    try:\n",
    "        # 值\n",
    "        values = soup.find_all('td', \"t3n1\")\n",
    "        value_list = [value.getText() for value in values]\n",
    "\n",
    "        # 券商\n",
    "        names = soup.find_all('td', \"t4t1\") \n",
    "        name_list = [name.getText() for name in names]\n",
    "\n",
    "        # 欄位名稱\n",
    "        titles = soup.find_all('td', \"t2\")  \n",
    "        title_list = [title.getText() for title in titles][-10:]\n",
    "\n",
    "        # 日期\n",
    "        date = soup.find('div', \"t11\").getText()[-10:] \n",
    "        date = '-'.join(date.split('/'))\n",
    "\n",
    "        # 將 dataframe 分為買超賣超 \n",
    "        alldf = pd.DataFrame(np.array(value_list[:-4]).reshape(-1, 8)) \n",
    "        df_buy = alldf.iloc[:, :4]\n",
    "        df_sell = alldf.iloc[:, 4:]\n",
    "\n",
    "        # + 券商名\n",
    "        buy = [i for i in range(len(name_list[:-4])) if i%2==0 ] \n",
    "        sell = [i for i in range(len(name_list[:-4])) if i%2!=0 ]\n",
    "        df_buy.insert(0, '買超券商', [name_list[i] for i in buy])  \n",
    "        df_sell.insert(0, '賣超券商', [name_list[i] for i in sell])\n",
    "\n",
    "        # + 欄位名\n",
    "        df_buy.columns = title_list[:5] \n",
    "        df_sell.columns = title_list[-5:]\n",
    "\n",
    "        # + 資料日期\n",
    "        df_buy.insert(0, \"資料日期\", date)  \n",
    "        df_sell.insert(0, \"資料日期\", date)\n",
    "\n",
    "        # + 證券代號\n",
    "        df_buy.insert(1, \"證券代號\", ticker)  \n",
    "        df_sell.insert(1, \"證券代號\", ticker)\n",
    "\n",
    "        return df_buy, df_sell, value_list, name_list, date\n",
    "    \n",
    "    except Exception as e:\n",
    "        print('【系統訊息】{}'.format(e))\n",
    "        return None\n",
    "        "
   ]
  },
  {
   "cell_type": "markdown",
   "id": "71140217",
   "metadata": {},
   "source": [
    "##  2. 彙整 fun\n",
    "匯出2個檔案\n",
    "1. 每個日期各一個買超賣超 excel 檔 (2 sheet)      `ticker-日期.xlsx`\n",
    "2. 重要東東 所有日期合成一個 csv 檔                `ticker-OverBuySale.csv`"
   ]
  },
  {
   "cell_type": "code",
   "execution_count": 20,
   "id": "1801a06f",
   "metadata": {},
   "outputs": [],
   "source": [
    "def OverBuySale(ticker, tillnow=0, year=datetime.datetime.now().date().year, \n",
    "                month=datetime.datetime.now().date().month, \n",
    "                day=datetime.datetime.now().date().day, start_end=None):\n",
    "    '''\n",
    "    ticker: (int) 證券代號\n",
    "    tillnow: (int) 輸入要抓的前 or 後幾個工作天(根據基準日期) ex: 前3天(包含今天共4天):-3\n",
    "    year: (int) 基準年份\n",
    "    month: (int) 基準月份\n",
    "    day: (int) 基準日期\n",
    "    start_end: (list) 格式:[起始年, 起始月, 起始日, 終止年, 終止月, 終止日]\n",
    "    \n",
    "    **default: 抓當天**\n",
    "    \n",
    "    return \n",
    "    df_summary: 重要的表格\n",
    "    problem: 查無資料的日期\n",
    "    '''\n",
    "    \n",
    "    # 建立存檔案的資料夾\n",
    "    path_go1 = f'{os.getcwd()}\\\\買超賣超-主力進出明細表\\\\{str(ticker)}'   \n",
    "    if not os.path.exists(path_go1) : \n",
    "        os.makedirs(path_go1)\n",
    "    path_go2 = f'{os.getcwd()}\\\\合計平均買賣超'   \n",
    "    if not os.path.exists(path_go2) : \n",
    "        os.makedirs(path_go2)\n",
    "            \n",
    "    # 找出工作天\n",
    "    if start_end==None:\n",
    "        find_work = [chinese_calendar.find_workday(delta_days=tillnow, date=datetime.date(year, month, day)), datetime.date(year, month, day)]\n",
    "        work = chinese_calendar.get_workdays(min(find_work), max(find_work))\n",
    "    else:\n",
    "        work = chinese_calendar.get_workdays(datetime.date(start_end[0], start_end[1], start_end[2]), \n",
    "                                             datetime.date(start_end[3], start_end[4], start_end[5]))\n",
    "    \n",
    "    # 要抓的年份-月份-日 \n",
    "    years = [work[i].year for i in range(len(work))]\n",
    "    months = [work[i].month for i in range(len(work))]\n",
    "    days = [work[i].day for i in range(len(work))]\n",
    "    \n",
    "    all_choose = list(zip(years, months, days))\n",
    "    #print(ticker, '要抓的工作天有', [str(m)+'/'+str(d) for _,m,d in all_choose])\n",
    "    \n",
    "    # 單支股票所有日期的重要東東\n",
    "    df_summary = pd.DataFrame(columns = ['資料日期', '證券代號', '合計買超張數', '合計賣超張數', '平均買超成本', '平均賣超成本'])\n",
    "    \n",
    "    problem = []  ## 存下查無資料的日期\n",
    "    for choose in all_choose:\n",
    "        \n",
    "        y, m, d = choose\n",
    "        url = f\"\"https://stockchannelnew.sinotrade.com.tw/z/zc/zco/zco.djhtm?a={ticker}&e={y}-{m}-{d}&f={y}-{m}-{d}\n",
    "        browser.get(url)\n",
    "        time.sleep(2)\n",
    "        \n",
    "        # 抓表格 \n",
    "        tabletable = table(ticker)\n",
    "        if isinstance(tabletable, type(None)):\n",
    "            problem.append([str(y)+'/'+str(m)+'/'+str(d)])\n",
    "            print(f'{y}/{m}/{d} 的資料 error')\n",
    "            continue\n",
    "        else:\n",
    "            df_buy, df_sell, value_list, name_list, date = tabletable\n",
    "\n",
    "            if len(df_buy)!=0 and len(df_sell)!=0:\n",
    "\n",
    "                # **匯出**單日 excel買超賣超表格 (各一個 sheet)     \n",
    "                filename = str(ticker) + \"-\" + ''.join(str(date).split('-')) + str(\".xlsx\")\n",
    "\n",
    "                writer = pd.ExcelWriter(f'{path_go1}\\\\{filename}')   \n",
    "                i=1\n",
    "                for file in [df_buy, df_sell]:\n",
    "                    file.to_excel(writer, sheet_name = '買超' if i==1 else '賣超', index=False)\n",
    "                    i+=1\n",
    "                writer.save()\n",
    "                writer.close()\n",
    "                del i\n",
    "                print(f'成功匯出 {filename}')\n",
    "            else:\n",
    "                problem.append([str(y)+'/'+str(m)+'/'+str(d)])\n",
    "                print(f'查無 {y}/{m}/{d} 的資料')\n",
    "                continue\n",
    "\n",
    "            # 單支股票所有日期的重要東東\n",
    "            new = dict(zip(name_list[-4:], value_list[-4:]))\n",
    "            new['資料日期'] = date\n",
    "            new['證券代號'] = ticker\n",
    "            df_summary = df_summary.append(new, ignore_index=True)\n",
    "        \n",
    "    # **匯出**單支股票所有日期的重要東東\n",
    "    filename2 =str(ticker) + \"-\" + 'OverBuySale' + str(\".csv\")\n",
    "    df_summary.to_csv(f'{path_go2}\\\\{filename2}', encoding='cp950', index = False)\n",
    "    print(f'成功匯出 {filename2}')\n",
    "\n",
    "    \n",
    "    return df_summary, problem"
   ]
  },
  {
   "cell_type": "code",
   "execution_count": 21,
   "id": "87906cc6",
   "metadata": {},
   "outputs": [
    {
     "name": "stdout",
     "output_type": "stream",
     "text": [
      "查無 2022/4/24 的資料\n",
      "成功匯出 3529-20220425.xlsx\n",
      "成功匯出 3529-20220426.xlsx\n",
      "成功匯出 3529-OverBuySale.csv\n"
     ]
    },
    {
     "data": {
      "text/plain": [
       "(         資料日期  證券代號 合計買超張數 合計賣超張數    平均買超成本    平均賣超成本\n",
       " 0  2022-04-25  3529    707    773  1,133.84  1,132.22\n",
       " 1  2022-04-26  3529    931    956  1,091.64  1,092.96,\n",
       " [['2022/4/24']])"
      ]
     },
     "execution_count": 21,
     "metadata": {},
     "output_type": "execute_result"
    }
   ],
   "source": [
    "OverBuySale(3529, start_end=[2022, 4, 24, 2022, 4, 26])"
   ]
  },
  {
   "cell_type": "markdown",
   "id": "888732bd",
   "metadata": {},
   "source": [
    "### 範例"
   ]
  },
  {
   "cell_type": "code",
   "execution_count": 77,
   "id": "3d272600",
   "metadata": {},
   "outputs": [
    {
     "name": "stdout",
     "output_type": "stream",
     "text": [
      "成功匯出 8027-20220628.xlsx\n",
      "成功匯出 8027-20220629.xlsx\n",
      "成功匯出 8027-20220630.xlsx\n",
      "成功匯出 8027-20220701.xlsx\n",
      "成功匯出 8027-20220704.xlsx\n",
      "成功匯出 8027-20220705.xlsx\n",
      "成功匯出 8027-OverBuySale.csv\n",
      "\n",
      "成功匯出 8027-20220624.xlsx\n",
      "成功匯出 8027-20220627.xlsx\n",
      "成功匯出 8027-20220628.xlsx\n",
      "成功匯出 8027-OverBuySale.csv\n",
      "\n",
      "成功匯出 8027-20220628.xlsx\n",
      "成功匯出 8027-20220629.xlsx\n",
      "成功匯出 8027-20220630.xlsx\n",
      "成功匯出 8027-OverBuySale.csv\n",
      "\n",
      "查無 2022/7/13 的資料\n",
      "成功匯出 8027-OverBuySale.csv\n",
      "\n",
      "成功匯出 8027-20220711.xlsx\n",
      "成功匯出 8027-20220712.xlsx\n",
      "查無 2022/7/13 的資料\n",
      "成功匯出 8027-OverBuySale.csv\n"
     ]
    },
    {
     "data": {
      "text/plain": [
       "(         資料日期  證券代號 合計買超張數 合計賣超張數 平均買超成本 平均賣超成本\n",
       " 0  2022-07-11  8027    107    121  62.45  62.42\n",
       " 1  2022-07-12  8027    231    325  59.67  59.94,\n",
       " [['2022/7/13']])"
      ]
     },
     "execution_count": 77,
     "metadata": {},
     "output_type": "execute_result"
    }
   ],
   "source": [
    "# ex: 直接指定 抓 6/28~ 7/5 (今天是 7/7)\n",
    "OverBuySale(8027, start_end=[2022, 6, 28, 2022, 7, 5])\n",
    "print('')\n",
    "\n",
    "# ex: 抓 6/28 前 2 個工作天 (包含 628 所以是 3 天....)\n",
    "OverBuySale(8027, tillnow = -2, month = 6, day = 28)\n",
    "print('')\n",
    "\n",
    "# ex: 抓 6/28 後 2 個工作天 (包含 628 所以是 3 天....)\n",
    "OverBuySale(8027, tillnow = 2, month = 6, day = 28)\n",
    "print('')\n",
    "\n",
    "# ex: 抓當天\n",
    "OverBuySale(8027)\n",
    "print('')\n",
    "\n",
    "# ex: 抓今天的前 2 個工作天 (包含今天所以是 3 天....)\n",
    "OverBuySale(8027, tillnow = -2)"
   ]
  },
  {
   "cell_type": "markdown",
   "id": "9d641438",
   "metadata": {},
   "source": [
    "## 3. 抓好幾支股票"
   ]
  },
  {
   "cell_type": "markdown",
   "id": "744f9b47",
   "metadata": {},
   "source": [
    "### 要爬的股票"
   ]
  },
  {
   "cell_type": "code",
   "execution_count": 7,
   "id": "539fa93f",
   "metadata": {},
   "outputs": [],
   "source": [
    "path_from = os.getcwd() \n",
    "tickers = pd.read_csv(path_from + r'\\台股全部4.csv', header=None)[0].tolist()"
   ]
  },
  {
   "cell_type": "markdown",
   "id": "1adfa18f",
   "metadata": {},
   "source": [
    "### 設定開始爬的股票號碼"
   ]
  },
  {
   "cell_type": "code",
   "execution_count": 10,
   "id": "4ec83038",
   "metadata": {},
   "outputs": [
    {
     "name": "stdout",
     "output_type": "stream",
     "text": [
      "從第 5 個開始\n"
     ]
    }
   ],
   "source": [
    "start = 4142  # 自己輸入\n",
    "\n",
    "start_index = int([i for (i, j) in enumerate(tickers) if j == start][0])\n",
    "print(f'從第 {start_index+1} 個開始')"
   ]
  },
  {
   "cell_type": "code",
   "execution_count": 11,
   "id": "0ce30688",
   "metadata": {
    "scrolled": true
   },
   "outputs": [
    {
     "name": "stdout",
     "output_type": "stream",
     "text": [
      "成功匯出 4142-20220525.xlsx\n",
      "成功匯出 4142-20220526.xlsx\n",
      "成功匯出 4142-20220527.xlsx\n",
      "成功匯出 4142-20220530.xlsx\n",
      "成功匯出 4142-20220531.xlsx\n",
      "成功匯出 4142-20220601.xlsx\n",
      "成功匯出 4142-20220602.xlsx\n",
      "成功匯出 4142-20220606.xlsx\n",
      "成功匯出 4142-20220607.xlsx\n",
      "成功匯出 4142-20220608.xlsx\n",
      "成功匯出 4142-20220609.xlsx\n",
      "成功匯出 4142-20220610.xlsx\n",
      "成功匯出 4142-20220613.xlsx\n",
      "成功匯出 4142-20220614.xlsx\n",
      "成功匯出 4142-20220615.xlsx\n",
      "成功匯出 4142-20220616.xlsx\n",
      "成功匯出 4142-20220617.xlsx\n",
      "成功匯出 4142-20220620.xlsx\n",
      "成功匯出 4142-20220621.xlsx\n",
      "成功匯出 4142-20220622.xlsx\n",
      "成功匯出 4142-20220623.xlsx\n",
      "成功匯出 4142-20220624.xlsx\n",
      "成功匯出 4142-20220627.xlsx\n",
      "成功匯出 4142-20220628.xlsx\n",
      "成功匯出 4142-20220629.xlsx\n",
      "成功匯出 4142-20220630.xlsx\n",
      "成功匯出 4142-20220701.xlsx\n",
      "成功匯出 4142-20220704.xlsx\n",
      "成功匯出 4142-20220705.xlsx\n",
      "成功匯出 4142-20220706.xlsx\n",
      "查無 2022/7/7 的資料\n",
      "成功匯出 4142-OverBuySale.csv\n",
      "已將查無資料的股票號碼 & 日期匯出為 2_problem_dict.pkl\n",
      "爬完 4142 ~~~\n",
      "spend 1.2 min\n",
      "\n",
      "成功匯出 4147-20220525.xlsx\n",
      "成功匯出 4147-20220526.xlsx\n",
      "成功匯出 4147-20220527.xlsx\n",
      "成功匯出 4147-20220530.xlsx\n",
      "成功匯出 4147-20220531.xlsx\n",
      "成功匯出 4147-20220601.xlsx\n"
     ]
    },
    {
     "ename": "KeyboardInterrupt",
     "evalue": "",
     "output_type": "error",
     "traceback": [
      "\u001b[1;31m---------------------------------------------------------------------------\u001b[0m",
      "\u001b[1;31mKeyboardInterrupt\u001b[0m                         Traceback (most recent call last)",
      "\u001b[1;32m~\\AppData\\Local\\Temp/ipykernel_68156/2245875827.py\u001b[0m in \u001b[0;36m<module>\u001b[1;34m\u001b[0m\n\u001b[0;32m     14\u001b[0m \u001b[1;31m#tickers = [8027, 4961, 4967]\u001b[0m\u001b[1;33m\u001b[0m\u001b[1;33m\u001b[0m\u001b[0m\n\u001b[0;32m     15\u001b[0m \u001b[1;32mfor\u001b[0m \u001b[0mticker\u001b[0m \u001b[1;32min\u001b[0m \u001b[0mtickers\u001b[0m\u001b[1;33m[\u001b[0m\u001b[0mstart_index\u001b[0m\u001b[1;33m:\u001b[0m\u001b[1;33m]\u001b[0m\u001b[1;33m:\u001b[0m\u001b[1;33m\u001b[0m\u001b[1;33m\u001b[0m\u001b[0m\n\u001b[1;32m---> 16\u001b[1;33m     \u001b[0mdf_summary\u001b[0m\u001b[1;33m,\u001b[0m \u001b[0mproblem\u001b[0m \u001b[1;33m=\u001b[0m \u001b[0mOverBuySale\u001b[0m\u001b[1;33m(\u001b[0m\u001b[0mticker\u001b[0m\u001b[1;33m=\u001b[0m\u001b[0mticker\u001b[0m\u001b[1;33m,\u001b[0m \u001b[0mtillnow\u001b[0m \u001b[1;33m=\u001b[0m \u001b[1;33m-\u001b[0m\u001b[1;36m30\u001b[0m\u001b[1;33m)\u001b[0m  \u001b[1;31m# 自己輸入\u001b[0m\u001b[1;33m\u001b[0m\u001b[1;33m\u001b[0m\u001b[0m\n\u001b[0m\u001b[0;32m     17\u001b[0m \u001b[1;33m\u001b[0m\u001b[0m\n\u001b[0;32m     18\u001b[0m     \u001b[1;31m# 如果有查無資料的話\u001b[0m\u001b[1;33m\u001b[0m\u001b[1;33m\u001b[0m\u001b[0m\n",
      "\u001b[1;32m~\\AppData\\Local\\Temp/ipykernel_68156/1217162275.py\u001b[0m in \u001b[0;36mOverBuySale\u001b[1;34m(ticker, tillnow, year, month, day, start_end)\u001b[0m\n\u001b[0;32m     47\u001b[0m         \u001b[0murl\u001b[0m \u001b[1;33m=\u001b[0m \u001b[1;34mf\"https://stockchannelnew.sinotrade.com.tw/z/zc/zco/zco.djhtm?a={ticker}&e={y}-{m}-{d}&f={y}-{m}-{d}\"\u001b[0m\u001b[1;33m\u001b[0m\u001b[1;33m\u001b[0m\u001b[0m\n\u001b[0;32m     48\u001b[0m         \u001b[0mbrowser\u001b[0m\u001b[1;33m.\u001b[0m\u001b[0mget\u001b[0m\u001b[1;33m(\u001b[0m\u001b[0murl\u001b[0m\u001b[1;33m)\u001b[0m\u001b[1;33m\u001b[0m\u001b[1;33m\u001b[0m\u001b[0m\n\u001b[1;32m---> 49\u001b[1;33m         \u001b[0mtime\u001b[0m\u001b[1;33m.\u001b[0m\u001b[0msleep\u001b[0m\u001b[1;33m(\u001b[0m\u001b[1;36m2\u001b[0m\u001b[1;33m)\u001b[0m\u001b[1;33m\u001b[0m\u001b[1;33m\u001b[0m\u001b[0m\n\u001b[0m\u001b[0;32m     50\u001b[0m \u001b[1;33m\u001b[0m\u001b[0m\n\u001b[0;32m     51\u001b[0m         \u001b[1;31m# 抓表格\u001b[0m\u001b[1;33m\u001b[0m\u001b[1;33m\u001b[0m\u001b[0m\n",
      "\u001b[1;31mKeyboardInterrupt\u001b[0m: "
     ]
    }
   ],
   "source": [
    "time_start = time.time() #開始計時\n",
    "\n",
    "# 打開之前儲存的錯誤 dict 繼續沿用 (optional)，留下查無資料的股票號碼 & 日期\n",
    "if not os.path.exists(r'2_problem_dict.pkl') :\n",
    "    problem_dict = {}\n",
    "else:\n",
    "    with open(r'2_problem_dict.pkl', mode='rb') as inpf :  # 打開之前儲存的錯誤 dict 繼續沿用\n",
    "        try:\n",
    "            problem_dict = pickle.load(inpf)\n",
    "        except EOFError:\n",
    "            problem_dict = {}\n",
    "\n",
    "            \n",
    "#tickers = [8027, 4961, 4967]     ## 設定股票代碼        \n",
    "for ticker in tickers[start_index:]:\n",
    "    df_summary, problem = OverBuySale(ticker=ticker, tillnow = -30)  # 自己輸入\n",
    "    \n",
    "    # 如果有查無資料的話\n",
    "    if len(problem)!=0:\n",
    "        # 存下查無資料的股票號碼 & 日期 (dict) \n",
    "        problem_dict[ticker] = problem\n",
    "\n",
    "        # 匯出查無資料的股票號碼 & 日期\n",
    "        with open(r'2_problem_dict.pkl', mode='wb') as outf :\n",
    "            pickle.dump(problem_dict, outf)\n",
    "        print(f'已將查無資料的股票號碼 & 日期匯出為 2_problem_dict.pkl') \n",
    "         \n",
    "    print(f'爬完 {ticker} ~~~')\n",
    "    \n",
    "    time_end = time.time() \n",
    "    timespend= (time_end- time_start)/60\n",
    "    print('spend '+ str(round(timespend, 2))+ ' min')\n",
    "    print('')\n",
    " "
   ]
  },
  {
   "cell_type": "markdown",
   "id": "7a9487dc",
   "metadata": {},
   "source": [
    "### 偷看"
   ]
  },
  {
   "cell_type": "code",
   "execution_count": 80,
   "id": "0bd77045",
   "metadata": {},
   "outputs": [
    {
     "name": "stdout",
     "output_type": "stream",
     "text": [
      "成功匯出 8027-20220711.xlsx\n",
      "成功匯出 8027-20220712.xlsx\n",
      "查無 2022/7/13 的資料\n",
      "成功匯出 8027-OverBuySale.csv\n"
     ]
    },
    {
     "data": {
      "text/html": [
       "<div>\n",
       "<style scoped>\n",
       "    .dataframe tbody tr th:only-of-type {\n",
       "        vertical-align: middle;\n",
       "    }\n",
       "\n",
       "    .dataframe tbody tr th {\n",
       "        vertical-align: top;\n",
       "    }\n",
       "\n",
       "    .dataframe thead th {\n",
       "        text-align: right;\n",
       "    }\n",
       "</style>\n",
       "<table border=\"1\" class=\"dataframe\">\n",
       "  <thead>\n",
       "    <tr style=\"text-align: right;\">\n",
       "      <th></th>\n",
       "      <th>資料日期</th>\n",
       "      <th>證券代號</th>\n",
       "      <th>合計買超張數</th>\n",
       "      <th>合計賣超張數</th>\n",
       "      <th>平均買超成本</th>\n",
       "      <th>平均賣超成本</th>\n",
       "    </tr>\n",
       "  </thead>\n",
       "  <tbody>\n",
       "    <tr>\n",
       "      <th>0</th>\n",
       "      <td>2022-07-11</td>\n",
       "      <td>8027</td>\n",
       "      <td>107</td>\n",
       "      <td>121</td>\n",
       "      <td>62.45</td>\n",
       "      <td>62.42</td>\n",
       "    </tr>\n",
       "    <tr>\n",
       "      <th>1</th>\n",
       "      <td>2022-07-12</td>\n",
       "      <td>8027</td>\n",
       "      <td>231</td>\n",
       "      <td>325</td>\n",
       "      <td>59.67</td>\n",
       "      <td>59.94</td>\n",
       "    </tr>\n",
       "  </tbody>\n",
       "</table>\n",
       "</div>"
      ],
      "text/plain": [
       "         資料日期  證券代號 合計買超張數 合計賣超張數 平均買超成本 平均賣超成本\n",
       "0  2022-07-11  8027    107    121  62.45  62.42\n",
       "1  2022-07-12  8027    231    325  59.67  59.94"
      ]
     },
     "execution_count": 80,
     "metadata": {},
     "output_type": "execute_result"
    }
   ],
   "source": [
    "# 單支股票所有日期的重要東東 大致長醬\n",
    "OverBuySale(8027, tillnow = -2)[0]"
   ]
  },
  {
   "cell_type": "code",
   "execution_count": 13,
   "id": "4d31d7c3",
   "metadata": {},
   "outputs": [
    {
     "name": "stdout",
     "output_type": "stream",
     "text": [
      "目前查無資料: {4585: [['2022/7/7']], 8027: [['2022/7/7']], 4961: [['2022/7/7']], 4967: [['2022/7/7']], 5006: [['2022/5/25'], ['2022/5/26'], ['2022/5/27'], ['2022/5/30'], ['2022/5/31'], ['2022/6/1'], ['2022/6/2'], ['2022/6/6'], ['2022/6/7'], ['2022/6/8'], ['2022/6/9'], ['2022/6/10'], ['2022/6/13'], ['2022/6/14'], ['2022/6/15'], ['2022/6/16'], ['2022/6/17'], ['2022/6/20'], ['2022/6/21'], ['2022/6/22'], ['2022/6/23'], ['2022/6/24'], ['2022/6/27'], ['2022/6/28'], ['2022/6/29'], ['2022/6/30'], ['2022/7/1'], ['2022/7/4'], ['2022/7/5'], ['2022/7/6'], ['2022/7/7']], 4142: [['2022/7/7']]}\n"
     ]
    }
   ],
   "source": [
    "# 目前查無資料的股票號碼 & 日期\n",
    "print(f'目前查無資料: {problem_dict}') "
   ]
  }
 ],
 "metadata": {
  "kernelspec": {
   "display_name": "Python 3 (ipykernel)",
   "language": "python",
   "name": "python3"
  },
  "language_info": {
   "codemirror_mode": {
    "name": "ipython",
    "version": 3
   },
   "file_extension": ".py",
   "mimetype": "text/x-python",
   "name": "python",
   "nbconvert_exporter": "python",
   "pygments_lexer": "ipython3",
   "version": "3.9.7"
  }
 },
 "nbformat": 4,
 "nbformat_minor": 5
}
